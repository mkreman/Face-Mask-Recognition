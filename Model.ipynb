{
 "cells": [
  {
   "cell_type": "code",
   "execution_count": 1,
   "metadata": {},
   "outputs": [],
   "source": [
    "import tensorflow as tf\n",
    "from tensorflow.keras.layers import Conv2D, Dense, Dropout, Flatten\n",
    "from tensorflow.keras.models import Sequential, save_model, load_model\n",
    "from tensorflow.keras.preprocessing.image import ImageDataGenerator\n",
    "from tensorflow.keras.callbacks import ModelCheckpoint, EarlyStopping\n",
    "import matplotlib.pyplot as plt\n",
    "import shutil\n",
    "import glob\n",
    "import os\n",
    "import numpy as np\n",
    "import cv2\n",
    "\n",
    "np.random.seed(0)"
   ]
  },
  {
   "cell_type": "markdown",
   "metadata": {},
   "source": [
    "Preparing the datasest"
   ]
  },
  {
   "cell_type": "code",
   "execution_count": 7,
   "metadata": {},
   "outputs": [
    {
     "data": {
      "text/plain": [
       "(690, 686)"
      ]
     },
     "execution_count": 7,
     "metadata": {},
     "output_type": "execute_result"
    }
   ],
   "source": [
    "len(os.listdir('./dataset/with_mask')), len(os.listdir('./dataset/without_mask'))"
   ]
  },
  {
   "cell_type": "code",
   "execution_count": 30,
   "metadata": {},
   "outputs": [],
   "source": [
    "os.makedirs('dataset/train/with_mask')\n",
    "os.makedirs('dataset/valid/with_mask')\n",
    "os.makedirs('dataset/test/with_mask')\n",
    "os.makedirs('dataset/temp/with_mask')\n",
    "\n",
    "os.makedirs('dataset/train/without_mask')\n",
    "os.makedirs('dataset/valid/without_mask')\n",
    "os.makedirs('dataset/test/without_mask')\n",
    "os.makedirs('dataset/temp/without_mask')"
   ]
  },
  {
   "cell_type": "code",
   "execution_count": 33,
   "metadata": {},
   "outputs": [],
   "source": [
    "images = os.listdir('dataset/without_mask')\n",
    "np.random.shuffle(images)\n",
    "\n",
    "for img in images[:int(len(images))]:\n",
    "    shutil.move(f'dataset/without_mask/{img}', f'dataset/valid/without_mask/{img}')"
   ]
  },
  {
   "cell_type": "code",
   "execution_count": 38,
   "metadata": {},
   "outputs": [
    {
     "data": {
      "text/plain": [
       "((152, 270, 3), (960, 956, 3))"
      ]
     },
     "execution_count": 38,
     "metadata": {},
     "output_type": "execute_result"
    }
   ],
   "source": [
    "sizes = set()\n",
    "for img in os.listdir('./dataset/train/with_mask'):\n",
    "    I = cv2.imread(f'./dataset/train/with_mask/{img}')\n",
    "    sizes.add(I.shape)\n",
    "    \n",
    "min(sizes), max(sizes)"
   ]
  },
  {
   "cell_type": "code",
   "execution_count": 6,
   "metadata": {},
   "outputs": [
    {
     "data": {
      "text/plain": [
       "(115, 324)"
      ]
     },
     "execution_count": 6,
     "metadata": {},
     "output_type": "execute_result"
    }
   ],
   "source": [
    "len(os.listdir('./dataset/train/with_mask')), len(os.listdir('./dataset/train/without_mask'))"
   ]
  },
  {
   "cell_type": "markdown",
   "metadata": {},
   "source": [
    "Applying data augmentation technique in with_mask category"
   ]
  },
  {
   "cell_type": "code",
   "execution_count": 15,
   "metadata": {},
   "outputs": [],
   "source": [
    "train_with_mask_img = os.listdir('./dataset/train/with_mask')\n",
    "for i in range(len(train_with_mask_img)):\n",
    "    name, ext = os.path.splitext(train_with_mask_img[i])\n",
    "    image = cv2.imread(os.path.join('./dataset', 'train', 'with_mask', train_with_mask_img[i]))\n",
    "    image = cv2.flip(image, 1)\n",
    "    cv2.imwrite(os.path.join('./dataset', 'train', 'with_mask', f'{name}_flipped_h{ext}'), image)"
   ]
  },
  {
   "cell_type": "markdown",
   "metadata": {},
   "source": [
    "Creating train, valid, and test data generators"
   ]
  },
  {
   "cell_type": "code",
   "execution_count": 2,
   "metadata": {},
   "outputs": [
    {
     "name": "stdout",
     "output_type": "stream",
     "text": [
      "Found 554 images belonging to 2 classes.\n",
      "Found 80 images belonging to 2 classes.\n",
      "Found 74 images belonging to 2 classes.\n"
     ]
    }
   ],
   "source": [
    "train_path = './dataset/train'\n",
    "valid_path = './dataset/valid'\n",
    "test_path = './dataset/test'\n",
    "\n",
    "train_batches = ImageDataGenerator(rescale=1/255.0).flow_from_directory(directory=train_path,\n",
    "                    target_size=(128, 128), color_mode='grayscale', batch_size=8,\n",
    "                    classes=['with_mask', 'without_mask'], shuffle=True)\n",
    "\n",
    "valid_batches = ImageDataGenerator(rescale=1/255.0).flow_from_directory(directory=valid_path, \n",
    "                    target_size=(128, 128), color_mode='grayscale', batch_size=8, \n",
    "                    classes=['with_mask', 'without_mask'], shuffle=True)\n",
    "\n",
    "test_batches = ImageDataGenerator(rescale=1/255.0).flow_from_directory(directory=test_path,\n",
    "                    target_size=(128, 128), color_mode='grayscale', batch_size=8, \n",
    "                    classes=['with_mask', 'without_mask'], shuffle=False)"
   ]
  },
  {
   "cell_type": "markdown",
   "metadata": {},
   "source": [
    "Model"
   ]
  },
  {
   "cell_type": "code",
   "execution_count": 21,
   "metadata": {},
   "outputs": [],
   "source": [
    "model = Sequential([\n",
    "    Conv2D(128, (3,3), activation='relu', input_shape=(128, 128, 1)),\n",
    "    Dropout(0.5),\n",
    "    Conv2D(64, (3,3), activation='relu'),\n",
    "    Dropout(0.5),\n",
    "    Flatten(),\n",
    "    Dense(128, activation='relu'),\n",
    "    Dense(32, activation='relu'),\n",
    "    Dense(2, activation='softmax')\n",
    "])\n",
    "\n",
    "model.compile(optimizer='adam', loss='categorical_crossentropy', metrics=['acc'])"
   ]
  },
  {
   "cell_type": "code",
   "execution_count": 22,
   "metadata": {},
   "outputs": [],
   "source": [
    "def callbacks(path):\n",
    "    model_checkpoint = ModelCheckpoint(filepath=path,\n",
    "                                       monitor='val_loss', \n",
    "                                       verbose=False,\n",
    "                                       save_best_only=True)\n",
    "    early_stopping = EarlyStopping(monitor='val_loss', \n",
    "                                   patience=5,\n",
    "                                   min_delta=0.1)\n",
    "    return model_checkpoint, early_stopping"
   ]
  },
  {
   "cell_type": "markdown",
   "metadata": {},
   "source": [
    "Training the model"
   ]
  },
  {
   "cell_type": "code",
   "execution_count": 23,
   "metadata": {},
   "outputs": [
    {
     "name": "stdout",
     "output_type": "stream",
     "text": [
      "Epoch 1/50\n",
      "70/70 [==============================] - ETA: 0s - loss: 0.7198 - acc: 0.5632INFO:tensorflow:Assets written to: ./trained_model/checkpoints/assets\n",
      "70/70 [==============================] - 241s 3s/step - loss: 0.7198 - acc: 0.5632 - val_loss: 0.6680 - val_acc: 0.6750\n",
      "Epoch 2/50\n",
      "70/70 [==============================] - ETA: 0s - loss: 0.6513 - acc: 0.6895INFO:tensorflow:Assets written to: ./trained_model/checkpoints/assets\n",
      "70/70 [==============================] - 251s 4s/step - loss: 0.6513 - acc: 0.6895 - val_loss: 0.4730 - val_acc: 0.6875\n",
      "Epoch 3/50\n",
      "70/70 [==============================] - ETA: 0s - loss: 0.4448 - acc: 0.8357INFO:tensorflow:Assets written to: ./trained_model/checkpoints/assets\n",
      "70/70 [==============================] - 253s 4s/step - loss: 0.4448 - acc: 0.8357 - val_loss: 0.4244 - val_acc: 0.7375\n",
      "Epoch 4/50\n",
      "70/70 [==============================] - ETA: 0s - loss: 0.3129 - acc: 0.8917INFO:tensorflow:Assets written to: ./trained_model/checkpoints/assets\n",
      "70/70 [==============================] - 257s 4s/step - loss: 0.3129 - acc: 0.8917 - val_loss: 0.3871 - val_acc: 0.8625\n",
      "Epoch 5/50\n",
      "70/70 [==============================] - 276s 4s/step - loss: 0.2361 - acc: 0.9224 - val_loss: 0.5181 - val_acc: 0.8000\n",
      "Epoch 6/50\n",
      "70/70 [==============================] - 255s 4s/step - loss: 0.1081 - acc: 0.9621 - val_loss: 0.4987 - val_acc: 0.8500\n",
      "Epoch 7/50\n",
      "70/70 [==============================] - 254s 4s/step - loss: 0.0520 - acc: 0.9801 - val_loss: 0.6789 - val_acc: 0.7875\n"
     ]
    }
   ],
   "source": [
    "history = model.fit(train_batches, epochs=50, validation_data=valid_batches,\n",
    "          callbacks=[callbacks('./trained_model/checkpoints')], verbose=1)"
   ]
  },
  {
   "cell_type": "markdown",
   "metadata": {},
   "source": [
    "Ploting the training and valid loss and accuracy"
   ]
  },
  {
   "cell_type": "code",
   "execution_count": 24,
   "metadata": {},
   "outputs": [
    {
     "data": {
      "image/png": "[encoded data removed]",
      "text/plain": [
       "<Figure size 432x288 with 1 Axes>"
      ]
     },
     "metadata": {
      "needs_background": "light"
     },
     "output_type": "display_data"
    }
   ],
   "source": [
    "plt.plot(history.history['acc'], label='accuracy')\n",
    "plt.plot(history.history['val_acc'], label='validation accuracy')\n",
    "\n",
    "plt.plot(history.history['loss'], label='loss')\n",
    "plt.plot(history.history['val_loss'], label='validation loss')\n",
    "plt.xlabel('Epochs')\n",
    "plt.ylabel('Metrics')\n",
    "plt.legend()\n",
    "plt.show()"
   ]
  },
  {
   "cell_type": "markdown",
   "metadata": {},
   "source": [
    "Evaluating the model on test dataset"
   ]
  },
  {
   "cell_type": "code",
   "execution_count": 25,
   "metadata": {},
   "outputs": [
    {
     "name": "stdout",
     "output_type": "stream",
     "text": [
      "10/10 [==============================] - 6s 611ms/step - loss: 0.6554 - acc: 0.7973\n"
     ]
    },
    {
     "data": {
      "text/plain": [
       "[0.6553789377212524, 0.7972972989082336]"
      ]
     },
     "execution_count": 25,
     "metadata": {},
     "output_type": "execute_result"
    }
   ],
   "source": [
    "model.evaluate(test_batches)"
   ]
  },
  {
   "cell_type": "markdown",
   "metadata": {},
   "source": [
    "Saving the learned model"
   ]
  },
  {
   "cell_type": "code",
   "execution_count": null,
   "metadata": {},
   "outputs": [],
   "source": [
    "model.save('./trained_model/')"
   ]
  },
  {
   "cell_type": "code",
   "execution_count": null,
   "metadata": {},
   "outputs": [],
   "source": []
  }
 ],
 "metadata": {
  "kernelspec": {
   "display_name": "Python 3",
   "language": "python",
   "name": "python3"
  },
  "language_info": {
   "codemirror_mode": {
    "name": "ipython",
    "version": 3
   },
   "file_extension": ".py",
   "mimetype": "text/x-python",
   "name": "python",
   "nbconvert_exporter": "python",
   "pygments_lexer": "ipython3",
   "version": "3.8.10"
  }
 },
 "nbformat": 4,
 "nbformat_minor": 4
}
